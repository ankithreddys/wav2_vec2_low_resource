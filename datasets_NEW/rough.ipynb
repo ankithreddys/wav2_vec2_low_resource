{
 "cells": [
  {
   "cell_type": "code",
   "execution_count": 12,
   "metadata": {},
   "outputs": [],
   "source": [
    "import pandas as pd"
   ]
  },
  {
   "cell_type": "code",
   "execution_count": 13,
   "metadata": {},
   "outputs": [],
   "source": [
    "required_columns = [\"path\",\"sentence\"]"
   ]
  },
  {
   "cell_type": "code",
   "execution_count": 14,
   "metadata": {},
   "outputs": [],
   "source": [
    "def prepare_dataframe():\n",
    "    required_columns = [\"path\",\"sentence\"]\n",
    "    datasets = [\"train.tsv\",\"test.tsv\",\"validated.tsv\",\"other.tsv\",\"invalidated.tsv\",\"dev.tsv\"]\n",
    "    df = pd.DataFrame(columns=[\"path\",\"sentence\"])\n",
    "    for x in datasets:\n",
    "        df_1 = pd.read_csv(x,delimiter='\\t')\n",
    "        df_1 = df_1[required_columns]\n",
    "        df = pd.concat([df_1,df],axis=0,ignore_index=True)\n",
    "    return df\n",
    "    "
   ]
  },
  {
   "cell_type": "code",
   "execution_count": 15,
   "metadata": {},
   "outputs": [],
   "source": [
    "df = prepare_dataframe()"
   ]
  },
  {
   "cell_type": "code",
   "execution_count": 16,
   "metadata": {},
   "outputs": [
    {
     "data": {
      "text/html": [
       "<div>\n",
       "<style scoped>\n",
       "    .dataframe tbody tr th:only-of-type {\n",
       "        vertical-align: middle;\n",
       "    }\n",
       "\n",
       "    .dataframe tbody tr th {\n",
       "        vertical-align: top;\n",
       "    }\n",
       "\n",
       "    .dataframe thead th {\n",
       "        text-align: right;\n",
       "    }\n",
       "</style>\n",
       "<table border=\"1\" class=\"dataframe\">\n",
       "  <thead>\n",
       "    <tr style=\"text-align: right;\">\n",
       "      <th></th>\n",
       "      <th>path</th>\n",
       "      <th>sentence</th>\n",
       "    </tr>\n",
       "  </thead>\n",
       "  <tbody>\n",
       "    <tr>\n",
       "      <th>0</th>\n",
       "      <td>common_voice_as_24178061.mp3</td>\n",
       "      <td>মোক মাতি পঠোৱা হ'লেই হ'লহেঁতেন</td>\n",
       "    </tr>\n",
       "    <tr>\n",
       "      <th>1</th>\n",
       "      <td>common_voice_as_24178062.mp3</td>\n",
       "      <td>আমাৰ মিৰি কনেঙৰ কেতিয়াবা কথা লৰেনে?</td>\n",
       "    </tr>\n",
       "    <tr>\n",
       "      <th>2</th>\n",
       "      <td>common_voice_as_24178063.mp3</td>\n",
       "      <td>আৰু একোকেই ভয় নাই</td>\n",
       "    </tr>\n",
       "    <tr>\n",
       "      <th>3</th>\n",
       "      <td>common_voice_as_24178064.mp3</td>\n",
       "      <td>কিন্তু, এইবাৰ দুয়োয়ে একেলগে দৌৰাৰ আঁচনি কৰিলে।</td>\n",
       "    </tr>\n",
       "    <tr>\n",
       "      <th>4</th>\n",
       "      <td>common_voice_as_24178065.mp3</td>\n",
       "      <td>কি কৈ আছোঁ ভালকৈ শুনক।</td>\n",
       "    </tr>\n",
       "    <tr>\n",
       "      <th>...</th>\n",
       "      <td>...</td>\n",
       "      <td>...</td>\n",
       "    </tr>\n",
       "    <tr>\n",
       "      <th>3784</th>\n",
       "      <td>common_voice_as_32869454.mp3</td>\n",
       "      <td>পদুমৰ ককায়েক ৰঘু।</td>\n",
       "    </tr>\n",
       "    <tr>\n",
       "      <th>3785</th>\n",
       "      <td>common_voice_as_32869455.mp3</td>\n",
       "      <td>তেওঁ নগাঁওত থাকে নেকি?</td>\n",
       "    </tr>\n",
       "    <tr>\n",
       "      <th>3786</th>\n",
       "      <td>common_voice_as_32869456.mp3</td>\n",
       "      <td>তেওঁৰ মনৰ পোহনীয়া আশা মাৰ গ'ল।</td>\n",
       "    </tr>\n",
       "    <tr>\n",
       "      <th>3787</th>\n",
       "      <td>common_voice_as_32869617.mp3</td>\n",
       "      <td>এনেকৈয়ে আৰু ডেৰ বছৰমান যোৱাত ভদ্ৰৰ মৃত্যু হ'ল।</td>\n",
       "    </tr>\n",
       "    <tr>\n",
       "      <th>3788</th>\n",
       "      <td>common_voice_as_32869623.mp3</td>\n",
       "      <td>আৰু সিহঁতে ল'ৰালৰিকৈ খাই পাত দুখন দলিয়াই পেলালে।</td>\n",
       "    </tr>\n",
       "  </tbody>\n",
       "</table>\n",
       "<p>3789 rows × 2 columns</p>\n",
       "</div>"
      ],
      "text/plain": [
       "                              path  \\\n",
       "0     common_voice_as_24178061.mp3   \n",
       "1     common_voice_as_24178062.mp3   \n",
       "2     common_voice_as_24178063.mp3   \n",
       "3     common_voice_as_24178064.mp3   \n",
       "4     common_voice_as_24178065.mp3   \n",
       "...                            ...   \n",
       "3784  common_voice_as_32869454.mp3   \n",
       "3785  common_voice_as_32869455.mp3   \n",
       "3786  common_voice_as_32869456.mp3   \n",
       "3787  common_voice_as_32869617.mp3   \n",
       "3788  common_voice_as_32869623.mp3   \n",
       "\n",
       "                                              sentence  \n",
       "0                       মোক মাতি পঠোৱা হ'লেই হ'লহেঁতেন  \n",
       "1                  আমাৰ মিৰি কনেঙৰ কেতিয়াবা কথা লৰেনে?  \n",
       "2                                    আৰু একোকেই ভয় নাই  \n",
       "3       কিন্তু, এইবাৰ দুয়োয়ে একেলগে দৌৰাৰ আঁচনি কৰিলে।  \n",
       "4                               কি কৈ আছোঁ ভালকৈ শুনক।  \n",
       "...                                                ...  \n",
       "3784                                 পদুমৰ ককায়েক ৰঘু।  \n",
       "3785                            তেওঁ নগাঁওত থাকে নেকি?  \n",
       "3786                    তেওঁৰ মনৰ পোহনীয়া আশা মাৰ গ'ল।  \n",
       "3787    এনেকৈয়ে আৰু ডেৰ বছৰমান যোৱাত ভদ্ৰৰ মৃত্যু হ'ল।  \n",
       "3788  আৰু সিহঁতে ল'ৰালৰিকৈ খাই পাত দুখন দলিয়াই পেলালে।  \n",
       "\n",
       "[3789 rows x 2 columns]"
      ]
     },
     "execution_count": 16,
     "metadata": {},
     "output_type": "execute_result"
    }
   ],
   "source": [
    "df"
   ]
  },
  {
   "cell_type": "code",
   "execution_count": 17,
   "metadata": {},
   "outputs": [
    {
     "data": {
      "text/plain": [
       "1718"
      ]
     },
     "execution_count": 17,
     "metadata": {},
     "output_type": "execute_result"
    }
   ],
   "source": [
    "df.duplicated().sum()"
   ]
  },
  {
   "cell_type": "code",
   "execution_count": 18,
   "metadata": {},
   "outputs": [],
   "source": [
    "df = df.drop_duplicates()"
   ]
  },
  {
   "cell_type": "code",
   "execution_count": 19,
   "metadata": {},
   "outputs": [
    {
     "data": {
      "text/html": [
       "<div>\n",
       "<style scoped>\n",
       "    .dataframe tbody tr th:only-of-type {\n",
       "        vertical-align: middle;\n",
       "    }\n",
       "\n",
       "    .dataframe tbody tr th {\n",
       "        vertical-align: top;\n",
       "    }\n",
       "\n",
       "    .dataframe thead th {\n",
       "        text-align: right;\n",
       "    }\n",
       "</style>\n",
       "<table border=\"1\" class=\"dataframe\">\n",
       "  <thead>\n",
       "    <tr style=\"text-align: right;\">\n",
       "      <th></th>\n",
       "      <th>path</th>\n",
       "      <th>sentence</th>\n",
       "    </tr>\n",
       "  </thead>\n",
       "  <tbody>\n",
       "    <tr>\n",
       "      <th>0</th>\n",
       "      <td>common_voice_as_24178061.mp3</td>\n",
       "      <td>মোক মাতি পঠোৱা হ'লেই হ'লহেঁতেন</td>\n",
       "    </tr>\n",
       "    <tr>\n",
       "      <th>1</th>\n",
       "      <td>common_voice_as_24178062.mp3</td>\n",
       "      <td>আমাৰ মিৰি কনেঙৰ কেতিয়াবা কথা লৰেনে?</td>\n",
       "    </tr>\n",
       "    <tr>\n",
       "      <th>2</th>\n",
       "      <td>common_voice_as_24178063.mp3</td>\n",
       "      <td>আৰু একোকেই ভয় নাই</td>\n",
       "    </tr>\n",
       "    <tr>\n",
       "      <th>3</th>\n",
       "      <td>common_voice_as_24178064.mp3</td>\n",
       "      <td>কিন্তু, এইবাৰ দুয়োয়ে একেলগে দৌৰাৰ আঁচনি কৰিলে।</td>\n",
       "    </tr>\n",
       "    <tr>\n",
       "      <th>4</th>\n",
       "      <td>common_voice_as_24178065.mp3</td>\n",
       "      <td>কি কৈ আছোঁ ভালকৈ শুনক।</td>\n",
       "    </tr>\n",
       "    <tr>\n",
       "      <th>...</th>\n",
       "      <td>...</td>\n",
       "      <td>...</td>\n",
       "    </tr>\n",
       "    <tr>\n",
       "      <th>2576</th>\n",
       "      <td>common_voice_as_32869454.mp3</td>\n",
       "      <td>পদুমৰ ককায়েক ৰঘু।</td>\n",
       "    </tr>\n",
       "    <tr>\n",
       "      <th>2577</th>\n",
       "      <td>common_voice_as_32869455.mp3</td>\n",
       "      <td>তেওঁ নগাঁওত থাকে নেকি?</td>\n",
       "    </tr>\n",
       "    <tr>\n",
       "      <th>2578</th>\n",
       "      <td>common_voice_as_32869456.mp3</td>\n",
       "      <td>তেওঁৰ মনৰ পোহনীয়া আশা মাৰ গ'ল।</td>\n",
       "    </tr>\n",
       "    <tr>\n",
       "      <th>2579</th>\n",
       "      <td>common_voice_as_32869617.mp3</td>\n",
       "      <td>এনেকৈয়ে আৰু ডেৰ বছৰমান যোৱাত ভদ্ৰৰ মৃত্যু হ'ল।</td>\n",
       "    </tr>\n",
       "    <tr>\n",
       "      <th>2580</th>\n",
       "      <td>common_voice_as_32869623.mp3</td>\n",
       "      <td>আৰু সিহঁতে ল'ৰালৰিকৈ খাই পাত দুখন দলিয়াই পেলালে।</td>\n",
       "    </tr>\n",
       "  </tbody>\n",
       "</table>\n",
       "<p>2071 rows × 2 columns</p>\n",
       "</div>"
      ],
      "text/plain": [
       "                              path  \\\n",
       "0     common_voice_as_24178061.mp3   \n",
       "1     common_voice_as_24178062.mp3   \n",
       "2     common_voice_as_24178063.mp3   \n",
       "3     common_voice_as_24178064.mp3   \n",
       "4     common_voice_as_24178065.mp3   \n",
       "...                            ...   \n",
       "2576  common_voice_as_32869454.mp3   \n",
       "2577  common_voice_as_32869455.mp3   \n",
       "2578  common_voice_as_32869456.mp3   \n",
       "2579  common_voice_as_32869617.mp3   \n",
       "2580  common_voice_as_32869623.mp3   \n",
       "\n",
       "                                              sentence  \n",
       "0                       মোক মাতি পঠোৱা হ'লেই হ'লহেঁতেন  \n",
       "1                  আমাৰ মিৰি কনেঙৰ কেতিয়াবা কথা লৰেনে?  \n",
       "2                                    আৰু একোকেই ভয় নাই  \n",
       "3       কিন্তু, এইবাৰ দুয়োয়ে একেলগে দৌৰাৰ আঁচনি কৰিলে।  \n",
       "4                               কি কৈ আছোঁ ভালকৈ শুনক।  \n",
       "...                                                ...  \n",
       "2576                                 পদুমৰ ককায়েক ৰঘু।  \n",
       "2577                            তেওঁ নগাঁওত থাকে নেকি?  \n",
       "2578                    তেওঁৰ মনৰ পোহনীয়া আশা মাৰ গ'ল।  \n",
       "2579    এনেকৈয়ে আৰু ডেৰ বছৰমান যোৱাত ভদ্ৰৰ মৃত্যু হ'ল।  \n",
       "2580  আৰু সিহঁতে ল'ৰালৰিকৈ খাই পাত দুখন দলিয়াই পেলালে।  \n",
       "\n",
       "[2071 rows x 2 columns]"
      ]
     },
     "execution_count": 19,
     "metadata": {},
     "output_type": "execute_result"
    }
   ],
   "source": [
    "df"
   ]
  },
  {
   "cell_type": "code",
   "execution_count": 20,
   "metadata": {},
   "outputs": [
    {
     "data": {
      "text/plain": [
       "path        0\n",
       "sentence    0\n",
       "dtype: int64"
      ]
     },
     "execution_count": 20,
     "metadata": {},
     "output_type": "execute_result"
    }
   ],
   "source": [
    "df.isna().sum()"
   ]
  },
  {
   "cell_type": "code",
   "execution_count": null,
   "metadata": {},
   "outputs": [],
   "source": [
    "df.to_csv"
   ]
  }
 ],
 "metadata": {
  "kernelspec": {
   "display_name": "base",
   "language": "python",
   "name": "python3"
  },
  "language_info": {
   "codemirror_mode": {
    "name": "ipython",
    "version": 3
   },
   "file_extension": ".py",
   "mimetype": "text/x-python",
   "name": "python",
   "nbconvert_exporter": "python",
   "pygments_lexer": "ipython3",
   "version": "3.11.5"
  }
 },
 "nbformat": 4,
 "nbformat_minor": 2
}
